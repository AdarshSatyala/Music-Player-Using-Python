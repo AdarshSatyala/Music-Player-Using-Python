{
 "cells": [
  {
   "cell_type": "code",
   "execution_count": 6,
   "id": "239a8399",
   "metadata": {},
   "outputs": [
    {
     "name": "stdout",
     "output_type": "stream",
     "text": [
      "Camila Cabello - Havana (Lyrics - Lyric Video) ft. Young Thug.mp4\n"
     ]
    },
    {
     "name": "stderr",
     "output_type": "stream",
     "text": [
      "Exception in Tkinter callback\n",
      "Traceback (most recent call last):\n",
      "  File \"D:\\anaconda\\lib\\tkinter\\__init__.py\", line 1892, in __call__\n",
      "    return self.func(*args)\n",
      "  File \"C:\\Users\\ELTRAD~1\\AppData\\Local\\Temp/ipykernel_8880/3725865066.py\", line 9, in playsong\n",
      "    mixer.music.load(currentsong)\n",
      "pygame.error: ModPlug_Load failed\n"
     ]
    },
    {
     "name": "stdout",
     "output_type": "stream",
     "text": [
      "15 New Rules.mp3\n",
      "15 New Rules.mp3\n",
      "Ed Sheeran - Shape Of You Official [Audio].mp4\n"
     ]
    },
    {
     "name": "stderr",
     "output_type": "stream",
     "text": [
      "Exception in Tkinter callback\n",
      "Traceback (most recent call last):\n",
      "  File \"D:\\anaconda\\lib\\tkinter\\__init__.py\", line 1892, in __call__\n",
      "    return self.func(*args)\n",
      "  File \"C:\\Users\\ELTRAD~1\\AppData\\Local\\Temp/ipykernel_8880/3725865066.py\", line 9, in playsong\n",
      "    mixer.music.load(currentsong)\n",
      "pygame.error: ModPlug_Load failed\n"
     ]
    },
    {
     "name": "stdout",
     "output_type": "stream",
     "text": [
      "Lose Yourself.mp3\n",
      "Major Lazer &DJ Snake-Lean on.mp3\n",
      "muzmo_ru_Charlie_Puth_-_Change_feat_James_Taylor_b160f0d216.mp3\n"
     ]
    }
   ],
   "source": [
    "import pygame\n",
    "from pygame import mixer\n",
    "from tkinter import *\n",
    "import os\n",
    "\n",
    "def playsong():\n",
    "    currentsong=playlist.get(ACTIVE)\n",
    "    print(currentsong)\n",
    "    mixer.music.load(currentsong)\n",
    "    songstatus.set(\"Playing\")\n",
    "    mixer.music.play()\n",
    "\n",
    "def pausesong():\n",
    "    songstatus.set(\"Paused\")\n",
    "    mixer.music.pause()\n",
    "\n",
    "def stopsong():\n",
    "    songstatus.set(\"Stopped\")\n",
    "    mixer.music.stop()\n",
    "\n",
    "def resumesong():\n",
    "    songstatus.set(\"Resuming\")\n",
    "    mixer.music.unpause()    \n",
    "\n",
    "root=Tk()\n",
    "root.title('Music player project')\n",
    "\n",
    "mixer.init()\n",
    "songstatus=StringVar()\n",
    "songstatus.set(\"choosing\")\n",
    "\n",
    "#playlist---------------\n",
    "\n",
    "playlist=Listbox(root,selectmode=SINGLE,bg=\"DodgerBlue2\",fg=\"white\",font=('arial',15),width=40)\n",
    "playlist.grid(columnspan=5)\n",
    "#Try to replace the location\n",
    "os.chdir(r'D:\\music\\English')\n",
    "songs=os.listdir()\n",
    "for s in songs:\n",
    "    playlist.insert(END,s)\n",
    "\n",
    "playbtn=Button(root,text=\"play\",command=playsong)\n",
    "playbtn.config(font=('arial',20),bg=\"DodgerBlue2\",fg=\"white\",padx=7,pady=7)\n",
    "playbtn.grid(row=1,column=0)\n",
    "\n",
    "pausebtn=Button(root,text=\"Pause\",command=pausesong)\n",
    "pausebtn.config(font=('arial',20),bg=\"DodgerBlue2\",fg=\"white\",padx=7,pady=7)\n",
    "pausebtn.grid(row=1,column=1)\n",
    "\n",
    "stopbtn=Button(root,text=\"Stop\",command=stopsong)\n",
    "stopbtn.config(font=('arial',20),bg=\"DodgerBlue2\",fg=\"white\",padx=7,pady=7)\n",
    "stopbtn.grid(row=1,column=2)\n",
    "\n",
    "Resumebtn=Button(root,text=\"Resume\",command=resumesong)\n",
    "Resumebtn.config(font=('arial',20),bg=\"DodgerBlue2\",fg=\"white\",padx=7,pady=7)\n",
    "Resumebtn.grid(row=1,column=3)\n",
    "\n",
    "mainloop()"
   ]
  },
  {
   "cell_type": "code",
   "execution_count": null,
   "id": "58f31fe0",
   "metadata": {},
   "outputs": [],
   "source": []
  },
  {
   "cell_type": "code",
   "execution_count": null,
   "id": "11c9e0e3",
   "metadata": {},
   "outputs": [],
   "source": []
  }
 ],
 "metadata": {
  "kernelspec": {
   "display_name": "Python 3 (ipykernel)",
   "language": "python",
   "name": "python3"
  },
  "language_info": {
   "codemirror_mode": {
    "name": "ipython",
    "version": 3
   },
   "file_extension": ".py",
   "mimetype": "text/x-python",
   "name": "python",
   "nbconvert_exporter": "python",
   "pygments_lexer": "ipython3",
   "version": "3.9.7"
  }
 },
 "nbformat": 4,
 "nbformat_minor": 5
}
